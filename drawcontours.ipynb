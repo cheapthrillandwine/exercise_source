{
 "cells": [
  {
   "cell_type": "code",
   "execution_count": 3,
   "metadata": {},
   "outputs": [],
   "source": [
    "import cv2\n",
    "import numpy as np\n",
    "import matplotlib.pyplot as plt"
   ]
  },
  {
   "cell_type": "code",
   "execution_count": 5,
   "metadata": {},
   "outputs": [
    {
     "ename": "error",
     "evalue": "C:\\bld\\opencv_1510966172919\\work\\opencv-3.3.0\\modules\\imgproc\\src\\color.cpp:10638: error: (-215) scn == 3 || scn == 4 in function cv::cvtColor\n",
     "output_type": "error",
     "traceback": [
      "\u001b[1;31m---------------------------------------------------------------------------\u001b[0m",
      "\u001b[1;31merror\u001b[0m                                     Traceback (most recent call last)",
      "\u001b[1;32m<ipython-input-5-30ec0e5624fb>\u001b[0m in \u001b[0;36m<module>\u001b[1;34m()\u001b[0m\n\u001b[0;32m     22\u001b[0m     \u001b[1;31m#cam.set(3, 640)  # Width\u001b[0m\u001b[1;33m\u001b[0m\u001b[1;33m\u001b[0m\u001b[0m\n\u001b[0;32m     23\u001b[0m     \u001b[1;31m#cam.set(4, 380)  # Heigh\u001b[0m\u001b[1;33m\u001b[0m\u001b[1;33m\u001b[0m\u001b[0m\n\u001b[1;32m---> 24\u001b[1;33m     \u001b[0mim1\u001b[0m \u001b[1;33m=\u001b[0m \u001b[0mcv2\u001b[0m\u001b[1;33m.\u001b[0m\u001b[0mcvtColor\u001b[0m\u001b[1;33m(\u001b[0m\u001b[0mcam\u001b[0m\u001b[1;33m.\u001b[0m\u001b[0mread\u001b[0m\u001b[1;33m(\u001b[0m\u001b[1;33m)\u001b[0m\u001b[1;33m[\u001b[0m\u001b[1;36m1\u001b[0m\u001b[1;33m]\u001b[0m\u001b[1;33m,\u001b[0m \u001b[0mcv2\u001b[0m\u001b[1;33m.\u001b[0m\u001b[0mCOLOR_RGB2GRAY\u001b[0m\u001b[1;33m)\u001b[0m\u001b[1;33m\u001b[0m\u001b[0m\n\u001b[0m\u001b[0;32m     25\u001b[0m     \u001b[0mim2\u001b[0m \u001b[1;33m=\u001b[0m \u001b[0mcv2\u001b[0m\u001b[1;33m.\u001b[0m\u001b[0mcvtColor\u001b[0m\u001b[1;33m(\u001b[0m\u001b[0mcam\u001b[0m\u001b[1;33m.\u001b[0m\u001b[0mread\u001b[0m\u001b[1;33m(\u001b[0m\u001b[1;33m)\u001b[0m\u001b[1;33m[\u001b[0m\u001b[1;36m1\u001b[0m\u001b[1;33m]\u001b[0m\u001b[1;33m,\u001b[0m \u001b[0mcv2\u001b[0m\u001b[1;33m.\u001b[0m\u001b[0mCOLOR_RGB2GRAY\u001b[0m\u001b[1;33m)\u001b[0m\u001b[1;33m\u001b[0m\u001b[0m\n\u001b[0;32m     26\u001b[0m     \u001b[0mim3\u001b[0m \u001b[1;33m=\u001b[0m \u001b[0mcv2\u001b[0m\u001b[1;33m.\u001b[0m\u001b[0mcvtColor\u001b[0m\u001b[1;33m(\u001b[0m\u001b[0mcam\u001b[0m\u001b[1;33m.\u001b[0m\u001b[0mread\u001b[0m\u001b[1;33m(\u001b[0m\u001b[1;33m)\u001b[0m\u001b[1;33m[\u001b[0m\u001b[1;36m1\u001b[0m\u001b[1;33m]\u001b[0m\u001b[1;33m,\u001b[0m \u001b[0mcv2\u001b[0m\u001b[1;33m.\u001b[0m\u001b[0mCOLOR_RGB2GRAY\u001b[0m\u001b[1;33m)\u001b[0m\u001b[1;33m\u001b[0m\u001b[0m\n",
      "\u001b[1;31merror\u001b[0m: C:\\bld\\opencv_1510966172919\\work\\opencv-3.3.0\\modules\\imgproc\\src\\color.cpp:10638: error: (-215) scn == 3 || scn == 4 in function cv::cvtColor\n"
     ]
    }
   ],
   "source": [
    "def flame_sub(im1,im2,im3,th,blur):\n",
    "\n",
    "    d1 = cv2.absdiff(im3, im2)\n",
    "    d2 = cv2.absdiff(im2, im1)\n",
    "    diff = cv2.bitwise_and(d1, d2)\n",
    "    # 差分が閾値より小さければTrue\n",
    "    mask = diff < th\n",
    "    # 背景画像と同じサイズの配列生成\n",
    "    im_mask = np.empty((im1.shape[0],im1.shape[1]),np.uint8)\n",
    "    im_mask[:][:]=255\n",
    "    # Trueの部分（背景）は黒塗り\n",
    "    im_mask[mask]=0\n",
    "    # ゴマ塩ノイズ除去\n",
    "#     im_mask = cv2.medianBlur(im_mask,blur)\n",
    "#     im_mask = cv2.fastNlMeansDenoising(im_mask,None,3,7,21)\n",
    "    im_mask = cv2.fastNlMeansDenoisingColored(im_mask,None,10,10,7,21)\n",
    "    return im_mask\n",
    "\n",
    "if __name__ == '__main__':\n",
    "\n",
    "    cam = cv2.VideoCapture(0)\n",
    "    #cam.set(3, 640)  # Width\n",
    "    #cam.set(4, 380)  # Heigh\n",
    "    im1 = cv2.cvtColor(cam.read()[1], cv2.COLOR_RGB2GRAY)\n",
    "    im2 = cv2.cvtColor(cam.read()[1], cv2.COLOR_RGB2GRAY)\n",
    "    im3 = cv2.cvtColor(cam.read()[1], cv2.COLOR_RGB2GRAY)\n",
    "\n",
    "    while True:\n",
    "        # フレーム間差分計算\n",
    "        im_fs = flame_sub(im1,im2,im3,5,7)\n",
    "        cv2.imshow(\"Motion Mask\",im_fs)\n",
    "\n",
    "        #輪郭を検出\n",
    "        cunts = cv2.findContours(im_fs,cv2.RETR_TREE,cv2.CHAIN_APPROX_SIMPLE)[1]\n",
    "        ret, frame = cam.read()\n",
    "\n",
    "        #四角で囲む\n",
    "        for pt in cunts:\n",
    "           x,y,w,h = cv2.boundingRect(pt)\n",
    "           if w < 100: continue\n",
    "           cv2.rectangle(frame, (x, y), (x+w, y+h),(0, 255, 0), 3)\n",
    "\n",
    "        #輪郭を抽出する\n",
    "        cv2.drawContours(frame,cunts,-1,(0,255,0),3)\n",
    "\n",
    "        cv2.imshow(\"Input\",frame)\n",
    "\n",
    "        im1 = im2\n",
    "        im2 = im3\n",
    "        im3 = cv2.cvtColor(cam.read()[1], cv2.COLOR_RGB2GRAY)\n",
    "        key = cv2.waitKey(10)\n",
    "        if cv2.waitKey(33) & 0xFF == ord('q'):\n",
    "            break\n",
    "    cv2.destroyAllWindows()\n"
   ]
  },
  {
   "cell_type": "code",
   "execution_count": null,
   "metadata": {},
   "outputs": [],
   "source": []
  }
 ],
 "metadata": {
  "kernelspec": {
   "display_name": "Python 3",
   "language": "python",
   "name": "python3"
  },
  "language_info": {
   "codemirror_mode": {
    "name": "ipython",
    "version": 3
   },
   "file_extension": ".py",
   "mimetype": "text/x-python",
   "name": "python",
   "nbconvert_exporter": "python",
   "pygments_lexer": "ipython3",
   "version": "3.6.4"
  }
 },
 "nbformat": 4,
 "nbformat_minor": 2
}
