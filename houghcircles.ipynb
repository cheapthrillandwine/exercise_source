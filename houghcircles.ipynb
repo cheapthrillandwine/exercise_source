{
 "cells": [
  {
   "cell_type": "code",
   "execution_count": 4,
   "metadata": {},
   "outputs": [],
   "source": [
    "import cv2\n",
    "import numpy as np"
   ]
  },
  {
   "cell_type": "code",
   "execution_count": 6,
   "metadata": {},
   "outputs": [],
   "source": [
    "cap = cv2.VideoCapture(0)\n",
    "\n",
    "def hougeCircles():\n",
    "    while(cap.isOpened()):\n",
    "        ret, frame = cap.read()\n",
    "        frame = frame[:,::-1]\n",
    "        size = (640,480)\n",
    "        frame = cv2.resize(frame, size)\n",
    "        gray = cv2.cvtColor(frame, cv2.COLOR_RGB2GRAY)\n",
    "        gray = cv2.GaussianBlur(gray, (33,33), 1)\n",
    "        colimg = frame.copy()\n",
    "        \n",
    "        circles = cv2.HoughCircles(gray, cv2.HOUGH_GRADIENT, 1, 60, param1=10, param2=85, minRadius=10, maxRAdius=80)\n",
    "        if circles != None:\n",
    "            circles = np.uint16(np.around(circles))\n",
    "            for i in circles[0,:]:\n",
    "                cv2.circle(colimg,(i[0],i[1]),i[2],(255,255,0),2)\n",
    "                cv2.circle(colimg,(i[0],1[1]),2,(0,0,255),3)\n",
    "                                   \n",
    "        cv2.imshow('preview', colkimg)\n",
    "        if cv2.waitKey(33) >= 0:\n",
    "            break\n",
    "    cap.release()\n",
    "    cv2.destroyAllWindows()"
   ]
  },
  {
   "cell_type": "code",
   "execution_count": null,
   "metadata": {},
   "outputs": [],
   "source": []
  }
 ],
 "metadata": {
  "kernelspec": {
   "display_name": "Python 3",
   "language": "python",
   "name": "python3"
  },
  "language_info": {
   "codemirror_mode": {
    "name": "ipython",
    "version": 3
   },
   "file_extension": ".py",
   "mimetype": "text/x-python",
   "name": "python",
   "nbconvert_exporter": "python",
   "pygments_lexer": "ipython3",
   "version": "3.6.4"
  }
 },
 "nbformat": 4,
 "nbformat_minor": 2
}
