{
 "cells": [
  {
   "cell_type": "code",
   "execution_count": 1,
   "metadata": {},
   "outputs": [],
   "source": [
    "import cv2\n",
    "import numpy as np\n",
    "import math\n",
    "import pdb"
   ]
  },
  {
   "cell_type": "code",
   "execution_count": 3,
   "metadata": {},
   "outputs": [],
   "source": [
    "img = cv2.imread(\"gauge-10.jpg\")\n",
    "setWidth = 269\n",
    "setHeight = 267\n",
    "picCenter = (134, 133)\n",
    "valDiv = 24\n",
    "segDeg = 360 / valDiv\n",
    "retWidth = 300\n",
    "retHeight = 300"
   ]
  },
  {
   "cell_type": "code",
   "execution_count": 4,
   "metadata": {},
   "outputs": [],
   "source": [
    "def getPerspectiveImage(img, points,width=50,height=300):\n",
    "    \n",
    "    pts1= numpy.array(points,dtype='float32')\n",
    "    \n",
    "    pts2 = numpy.array(((0,0),(0,height),(width,height),(width,0)),numpy.float32)\n",
    "    \n",
    "    M = cv2.getPerspectiveTransform(pts1, pts2)  # 透視変換行列を作成。\n",
    "    return cv2.warpPerspective(img, M, (width, height))  # 透視変換行列を使って切り抜き。"
   ]
  },
  {
   "cell_type": "code",
   "execution_count": 9,
   "metadata": {},
   "outputs": [
    {
     "ename": "NameError",
     "evalue": "name 'valRad' is not defined",
     "output_type": "error",
     "traceback": [
      "\u001b[1;31m---------------------------------------------------------------------------\u001b[0m",
      "\u001b[1;31mNameError\u001b[0m                                 Traceback (most recent call last)",
      "\u001b[1;32m<ipython-input-9-50af56d362b0>\u001b[0m in \u001b[0;36m<module>\u001b[1;34m()\u001b[0m\n\u001b[0;32m     38\u001b[0m \u001b[1;33m\u001b[0m\u001b[0m\n\u001b[0;32m     39\u001b[0m             \u001b[1;31m#分割用のポイントを得る\u001b[0m\u001b[1;33m\u001b[0m\u001b[1;33m\u001b[0m\u001b[0m\n\u001b[1;32m---> 40\u001b[1;33m             \u001b[0mvalPoints\u001b[0m \u001b[1;33m=\u001b[0m  \u001b[0mgetPoints\u001b[0m\u001b[1;33m(\u001b[0m\u001b[0mvalDeg1\u001b[0m\u001b[1;33m,\u001b[0m\u001b[0mvalDeg2\u001b[0m\u001b[1;33m,\u001b[0m\u001b[0mvalRad\u001b[0m\u001b[1;33m,\u001b[0m\u001b[0mpicCenter\u001b[0m\u001b[1;33m)\u001b[0m\u001b[1;33m\u001b[0m\u001b[0m\n\u001b[0m\u001b[0;32m     41\u001b[0m \u001b[1;33m\u001b[0m\u001b[0m\n\u001b[0;32m     42\u001b[0m             \u001b[1;31m#分割ラインを描画\u001b[0m\u001b[1;33m\u001b[0m\u001b[1;33m\u001b[0m\u001b[0m\n",
      "\u001b[1;31mNameError\u001b[0m: name 'valRad' is not defined"
     ]
    }
   ],
   "source": [
    "def getPoints(Deg1,Deg2,R,C):\n",
    "    S,L = 0.3,0.98 #センターから近い方の円周と遠い方の円周のそれぞれの割合\n",
    "    x1 = int(R*L*math.cos(math.radians(Deg1)) + C[0])\n",
    "    x2 = int(R*S*math.cos(math.radians(Deg1)) + C[0])\n",
    "    x3 = int(R*S*math.cos(math.radians(Deg2)) + C[0])\n",
    "    x4 = int(R*L*math.cos(math.radians(Deg2)) + C[0])\n",
    "\n",
    "    y1 = int(R*L*math.sin(math.radians(Deg1)) + C[1])\n",
    "    y2 = int(R*S*math.sin(math.radians(Deg1)) + C[1])\n",
    "    y3 = int(R*S*math.sin(math.radians(Deg2)) + C[1])\n",
    "    y4 = int(R*L*math.sin(math.radians(Deg2)) + C[1])\n",
    "    \n",
    "    #print ((x1,y1),(x2,y2),(x3,y3),(x4,y4))\n",
    "\n",
    "    return ((x1,y1),(x2,y2),(x3,y3),(x4,y4))\n",
    "\n",
    "if __name__ == '__main__':\n",
    "    \n",
    "    valWidth = int(retWidth/valDiv)\n",
    "\n",
    "#     cam = cv2.VideoCapture(0)\n",
    "#     cam.set(cv2.CAP_PROP_FRAME_WIDTH, int(setWidth))\n",
    "#     cam.set(cv2.CAP_PROP_FRAME_HEIGHT, int(setHeight))\n",
    "\n",
    "    while True:\n",
    "        orig = cv2.imread(\"gauge-10.jpg\")\n",
    "#         orig = cam.read()[1]\n",
    "        lines = orig.copy()\n",
    "        \n",
    "        #センターに丸をつける。\n",
    "        lines = cv2.circle(lines,picCenter,5,(0,255,0),-1)\n",
    "        \n",
    "        valDeg1 = 1\n",
    "        sumWarped = None\n",
    "        for i in range(1,valDiv+1):\n",
    "            #分割した数だけ、透視変換処理を繰り替えす\n",
    "            valDeg2 = segDeg * i\n",
    "\n",
    "            #分割用のポイントを得る\n",
    "            valPoints =  getPoints(valDeg1,valDeg2,valRad,picCenter)\n",
    "            \n",
    "            #分割ラインを描画\n",
    "            lines = cv2.line(lines,valPoints[2],valPoints[3],(0,255,0),3)\n",
    "            \n",
    "            #透視変換画像を得る\n",
    "            warped = getPerspectiveImage(orig, valPoints,valWidth,retHeight)\n",
    "            \n",
    "            #画像の結合\n",
    "            if sumWarped == None: \n",
    "                sumWarped = warped.copy()\n",
    "            else:\n",
    "                sumWarped = cv2.hconcat([sumWarped, warped])\n",
    "            \n",
    "            cv2.imshow('orig',lines)\n",
    "            cv2.imshow('warp', sumWarped)\n",
    "            valDeg1 = valDeg2\n",
    "            \n",
    "        if cv2.waitKey(1) & 0xFF == ord('q'):\n",
    "            cam.release()\n",
    "            cv2.destroyAllWindows()"
   ]
  }
 ],
 "metadata": {
  "kernelspec": {
   "display_name": "Python 3",
   "language": "python",
   "name": "python3"
  },
  "language_info": {
   "codemirror_mode": {
    "name": "ipython",
    "version": 3
   },
   "file_extension": ".py",
   "mimetype": "text/x-python",
   "name": "python",
   "nbconvert_exporter": "python",
   "pygments_lexer": "ipython3",
   "version": "3.6.4"
  }
 },
 "nbformat": 4,
 "nbformat_minor": 2
}
